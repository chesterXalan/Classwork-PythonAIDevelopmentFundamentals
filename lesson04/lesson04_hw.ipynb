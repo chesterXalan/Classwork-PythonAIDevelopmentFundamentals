{
 "cells": [
  {
   "cell_type": "markdown",
   "metadata": {},
   "source": [
    "### 讓使用者輸入梯形的上底、下底及高，程式會計算梯形的面積(上底加下底乘以高除以2)\n",
    "### 輸入: (可以輸入整數和浮點數)\n",
    "* 請輸入梯形的上底(公分):5\n",
    "* 請輸入梯形的下底(公分):10\n",
    "* 請輸入梯形的高(公分):2\n",
    "### 輸出:\n",
    "* 梯形的上底5公分,下底10公分,高2公分\n",
    "* 梯形的面積:15平方公分"
   ]
  },
  {
   "cell_type": "code",
   "execution_count": 7,
   "metadata": {},
   "outputs": [
    {
     "name": "stdout",
     "output_type": "stream",
     "text": [
      "梯形的上底30公分, 下底40.25公分, 高15.5公分\n",
      "梯形的面積:544.44平方公分\n"
     ]
    }
   ],
   "source": [
    "top = eval(input('請輸入梯形的上底(公分):'))\n",
    "bottom = eval(input('請輸入梯形的下底(公分):'))\n",
    "height = eval(input('請輸入梯形的高(公分):'))\n",
    "\n",
    "area = round((top + bottom) * height / 2, ndigits=2)\n",
    "print(f'梯形的上底{top}公分, 下底{bottom}公分, 高{height}公分')\n",
    "print(f'梯形的面積:{area}平方公分')"
   ]
  }
 ],
 "metadata": {
  "kernelspec": {
   "display_name": "Python 3",
   "language": "python",
   "name": "python3"
  },
  "language_info": {
   "codemirror_mode": {
    "name": "ipython",
    "version": 3
   },
   "file_extension": ".py",
   "mimetype": "text/x-python",
   "name": "python",
   "nbconvert_exporter": "python",
   "pygments_lexer": "ipython3",
   "version": "3.12.3"
  }
 },
 "nbformat": 4,
 "nbformat_minor": 2
}
