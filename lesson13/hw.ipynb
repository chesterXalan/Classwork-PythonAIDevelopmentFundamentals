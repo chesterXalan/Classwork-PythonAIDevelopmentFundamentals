{
 "cells": [
  {
   "cell_type": "markdown",
   "metadata": {},
   "source": [
    "## 使用正規則表達式\n",
    "```\n",
    "建立一個正規則表達式\n",
    "有效的電話號碼: (123) 456-7890\n",
    "無效的電話號碼: 123-456-7890\n",
    "```\n",
    "\n",
    "```\n",
    "有效日期: 2024-05-29\n",
    "無效日期: 2024-13-01\n",
    "\n",
    "請建立一個輸入的範例，判斷格式是否正確\n",
    "pattern = r'\\d{4}-(0[1-9]|1[0-2])-(0[1-9]|[12][0-9]|3[01])'\n",
    "```"
   ]
  },
  {
   "cell_type": "code",
   "execution_count": 3,
   "metadata": {},
   "outputs": [
    {
     "name": "stdout",
     "output_type": "stream",
     "text": [
      "(123) 456-7890: 格式符合\n"
     ]
    }
   ],
   "source": [
    "import re\n",
    "\n",
    "phone_num = input('請輸入手機號碼(xxx) xxx-xxxx: ')\n",
    "phoneNumRegex = re.compile(r'\\(\\d{3}\\) \\d{3}-\\d{4}')\n",
    "match1 = phoneNumRegex.match(phone_num)\n",
    "if match1 is not None:\n",
    "    print(f'{match1.group()}: 格式符合')\n",
    "else:\n",
    "    print('格式不符')"
   ]
  },
  {
   "cell_type": "code",
   "execution_count": 8,
   "metadata": {},
   "outputs": [
    {
     "name": "stdout",
     "output_type": "stream",
     "text": [
      "2024-05-29: 格式符合\n"
     ]
    }
   ],
   "source": [
    "date = input('請輸入日期yyyy-mm-dd: ')\n",
    "dateRegex = re.compile(r'\\d{4}-(0[1-9]|1[0-2])-(0[1-9]|[12][0-9]|3[01])')\n",
    "match2 = dateRegex.match(date)\n",
    "if match2 is not None:\n",
    "    print(f'{match2.group()}: 格式符合')\n",
    "else:\n",
    "    print('格式不符')"
   ]
  }
 ],
 "metadata": {
  "kernelspec": {
   "display_name": "Python 3",
   "language": "python",
   "name": "python3"
  },
  "language_info": {
   "codemirror_mode": {
    "name": "ipython",
    "version": 3
   },
   "file_extension": ".py",
   "mimetype": "text/x-python",
   "name": "python",
   "nbconvert_exporter": "python",
   "pygments_lexer": "ipython3",
   "version": "3.10.14"
  }
 },
 "nbformat": 4,
 "nbformat_minor": 2
}
