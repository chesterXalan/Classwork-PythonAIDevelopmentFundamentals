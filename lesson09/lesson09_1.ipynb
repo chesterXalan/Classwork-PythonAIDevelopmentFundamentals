{
 "cells": [
  {
   "cell_type": "code",
   "execution_count": 1,
   "metadata": {},
   "outputs": [
    {
     "name": "stdout",
     "output_type": "stream",
     "text": [
      "<class 'int'>\n"
     ]
    }
   ],
   "source": [
    "n = 5\n",
    "print(type(n))"
   ]
  },
  {
   "cell_type": "code",
   "execution_count": 2,
   "metadata": {},
   "outputs": [
    {
     "data": {
      "text/plain": [
       "__main__.Person"
      ]
     },
     "execution_count": 2,
     "metadata": {},
     "output_type": "execute_result"
    }
   ],
   "source": [
    "# 自訂的類別\n",
    "class Person():\n",
    "    pass\n",
    "\n",
    "p1 = Person()\n",
    "type(p1)"
   ]
  },
  {
   "cell_type": "code",
   "execution_count": 3,
   "metadata": {},
   "outputs": [
    {
     "name": "stdout",
     "output_type": "stream",
     "text": [
      "p1的name: 徐茂桓\n",
      "p2的name: 徐茂桓\n"
     ]
    }
   ],
   "source": [
    "# 自訂的attribute，必須有自訂的initial\n",
    "class Person():\n",
    "    def __init__(self):\n",
    "        self.name = '徐茂桓'\n",
    "\n",
    "p1 = Person()\n",
    "print(f'p1的name: {p1.name}')\n",
    "\n",
    "p2 = Person()\n",
    "print(f'p2的name: {p2.name}')"
   ]
  },
  {
   "cell_type": "code",
   "execution_count": 5,
   "metadata": {},
   "outputs": [
    {
     "name": "stdout",
     "output_type": "stream",
     "text": [
      "p1的name: 徐茂桓\n",
      "p2的name: Alan\n"
     ]
    }
   ],
   "source": [
    "# 自訂的attribute，必須有自訂的initial\n",
    "# 自訂的init\n",
    "# 建立attribute name\n",
    "class Person():\n",
    "    def __init__(self, name: str):\n",
    "        super().__init__()\n",
    "        self.name = name\n",
    "\n",
    "p1 = Person('徐茂桓')\n",
    "print(f'p1的name: {p1.name}')\n",
    "\n",
    "p2 = Person(name='Alan')\n",
    "print(f'p2的name: {p2.name}')"
   ]
  },
  {
   "cell_type": "code",
   "execution_count": 6,
   "metadata": {},
   "outputs": [
    {
     "name": "stdout",
     "output_type": "stream",
     "text": [
      "p1的name: 徐茂桓\n",
      "我是Person的實體, 我的名字徐茂桓\n",
      "p2的name: Alan\n",
      "我是Person的實體, 我的名字Alan\n"
     ]
    }
   ],
   "source": [
    "# 自訂的attribute，必須有自訂的initial\n",
    "# 自訂的init\n",
    "# 建立attribute name\n",
    "# 自訂的repr\n",
    "\n",
    "class Person():\n",
    "    def __init__(self, name: str):\n",
    "        super().__init__()\n",
    "        self.name = name\n",
    "\n",
    "    def __repr__(self):\n",
    "        return f'我是Person的實體, 我的名字{self.name}'\n",
    "\n",
    "p1 = Person('徐茂桓')\n",
    "print(f'p1的name: {p1.name}')\n",
    "print(p1)\n",
    "\n",
    "p2 = Person(name='Alan')\n",
    "print(f'p2的name: {p2.name}')\n",
    "print(p2)"
   ]
  },
  {
   "cell_type": "code",
   "execution_count": 10,
   "metadata": {},
   "outputs": [],
   "source": [
    "class Person():\n",
    "    def __init__(self, name: str):\n",
    "        super().__init__()\n",
    "        self.name = name\n",
    "\n",
    "    def __repr__(self):\n",
    "        return f'我是Person的實體, 我的名字{self.name}'\n",
    "    \n",
    "class Student(Person):\n",
    "    def __init__(self, name: str, score: int):\n",
    "        super().__init__(name)\n",
    "        self.score = score\n",
    "\n",
    "    def __repr__(self):\n",
    "        before = super().__repr__()\n",
    "        return f'{before}, 總分為{self.score}'"
   ]
  },
  {
   "cell_type": "code",
   "execution_count": 13,
   "metadata": {},
   "outputs": [
    {
     "name": "stdout",
     "output_type": "stream",
     "text": [
      "徐茂桓 270\n",
      "我是Person的實體, 我的名字徐茂桓, 總分為270\n",
      "Alan 290\n",
      "我是Person的實體, 我的名字Alan, 總分為290\n"
     ]
    }
   ],
   "source": [
    "s1 = Student('徐茂桓', 270)\n",
    "print(s1.name, s1.score)\n",
    "print(s1)\n",
    "\n",
    "s2 = Student('Alan', 290)\n",
    "print(s2.name, s2.score)\n",
    "print(s2)"
   ]
  }
 ],
 "metadata": {
  "kernelspec": {
   "display_name": "Python 3",
   "language": "python",
   "name": "python3"
  },
  "language_info": {
   "codemirror_mode": {
    "name": "ipython",
    "version": 3
   },
   "file_extension": ".py",
   "mimetype": "text/x-python",
   "name": "python",
   "nbconvert_exporter": "python",
   "pygments_lexer": "ipython3",
   "version": "3.12.3"
  }
 },
 "nbformat": 4,
 "nbformat_minor": 2
}
