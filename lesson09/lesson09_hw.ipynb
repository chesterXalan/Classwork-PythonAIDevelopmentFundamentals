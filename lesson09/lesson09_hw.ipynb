{
 "cells": [
  {
   "cell_type": "markdown",
   "metadata": {},
   "source": [
    "## 請建立class BMI\n",
    "\n",
    "### 建立class BMI\n",
    "### 建立attribute -> name, height, weight\n",
    "### 建立property -> bmi\n",
    "### 建立實體方法def status() -> str\n",
    "\n",
    "### 輸入\n",
    "- 請輸入姓名:\n",
    "- 請輸入身高:\n",
    "- 請輸入體重:\n",
    "\n",
    "### 輸出\n",
    "- xxx您好:\n",
    "- 您的BMI值是: 24.24\n",
    "- 您的體重: 正常"
   ]
  },
  {
   "cell_type": "code",
   "execution_count": 8,
   "metadata": {},
   "outputs": [],
   "source": [
    "import pyinputplus as pyip\n",
    "\n",
    "class BMI():\n",
    "    def __init__(self, name: str, height: float, weight: float):\n",
    "        super().__init__()\n",
    "        self.name = name\n",
    "        self.height = height\n",
    "        self.weight = weight\n",
    "\n",
    "    def __repr__(self):\n",
    "        return f'\\n{self.name}您好:'\n",
    "    \n",
    "    @property\n",
    "    def bmi(self):\n",
    "        return self.weight / (self.height / 100) ** 2\n",
    "    \n",
    "    def status(self) -> str:\n",
    "        if self.bmi < 18.5:\n",
    "            result = '過輕'\n",
    "        elif self.bmi < 24:\n",
    "            result = '正常'\n",
    "        elif self.bmi < 27:\n",
    "            result = '過重'\n",
    "        elif self.bmi < 30:\n",
    "            result = '輕度肥胖'\n",
    "        elif self.bmi < 35:\n",
    "            result = '中度肥胖'\n",
    "        else:\n",
    "            result = '重度肥胖'\n",
    "        return result"
   ]
  },
  {
   "cell_type": "code",
   "execution_count": 11,
   "metadata": {},
   "outputs": [
    {
     "name": "stdout",
     "output_type": "stream",
     "text": [
      "請輸入身高(cm): 170.0\n",
      "請輸入體重(kg): 80.0\n",
      "\n",
      "Alan您好:\n",
      "您的BMI值是: 27.68\n",
      "您的體重: 輕度肥胖\n"
     ]
    }
   ],
   "source": [
    "name = input('請輸入姓名: ')\n",
    "height = pyip.inputFloat('請輸入身高(cm): ', min=0); print(height)\n",
    "weight = pyip.inputFloat('請輸入體重(kg): ', min=0); print(weight)\n",
    "\n",
    "p1 = BMI(name, height, weight)\n",
    "print(f'{p1}\\n您的BMI值是: {p1.bmi:.2f}\\n您的體重: {p1.status()}')"
   ]
  }
 ],
 "metadata": {
  "kernelspec": {
   "display_name": "Python 3",
   "language": "python",
   "name": "python3"
  },
  "language_info": {
   "codemirror_mode": {
    "name": "ipython",
    "version": 3
   },
   "file_extension": ".py",
   "mimetype": "text/x-python",
   "name": "python",
   "nbconvert_exporter": "python",
   "pygments_lexer": "ipython3",
   "version": "3.12.3"
  }
 },
 "nbformat": 4,
 "nbformat_minor": 2
}
