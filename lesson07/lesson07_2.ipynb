{
 "cells": [
  {
   "cell_type": "code",
   "execution_count": 7,
   "metadata": {},
   "outputs": [
    {
     "name": "stdout",
     "output_type": "stream",
     "text": [
      "請輸入第1個月存的金額: 10000\n",
      "請輸入第2個月存的金額: 15000\n",
      "請輸入第3個月存的金額: 5000\n",
      "最後一次存的金額是: 5000\n",
      "小明總共存了3個月, 已經存了30000元\n"
     ]
    }
   ],
   "source": [
    "# 小明想要存錢買一輛機車，機車每輛30000元，他將每月的錢存入，當存款足夠買機車時，就顯示提示訊息告知。\n",
    "\n",
    "import pyinputplus as pyip\n",
    "\n",
    "deposit = 0\n",
    "num = 0\n",
    "while deposit < 30000:\n",
    "    input_money = pyip.inputInt(f'請輸入第{num + 1}個月存的金額: '); print(input_money)\n",
    "    deposit += input_money\n",
    "    num += 1\n",
    "\n",
    "print(f'最後一次存的金額是: {input_money}')\n",
    "print(f'小明總共存了{num}個月, 已經存了{deposit}元')"
   ]
  },
  {
   "cell_type": "code",
   "execution_count": 9,
   "metadata": {},
   "outputs": [
    {
     "name": "stdout",
     "output_type": "stream",
     "text": [
      "請輸入第1個月存的金額: 8888\n",
      "請輸入第2個月存的金額: 7777\n",
      "請輸入第3個月存的金額: 6666\n",
      "請輸入第4個月存的金額: 5555\n",
      "請輸入第5個月存的金額: 4444\n",
      "最後一次存的金額是: 4444\n",
      "小明總共存了5個月, 已經存了33330元\n"
     ]
    }
   ],
   "source": [
    "deposit = 0\n",
    "num = 0\n",
    "while True:\n",
    "    num += 1\n",
    "    input_money = pyip.inputInt(f'請輸入第{num}個月存的金額: '); print(input_money)\n",
    "    deposit += input_money\n",
    "    if deposit >= 30000:\n",
    "        break\n",
    "\n",
    "print(f'最後一次存的金額是: {input_money}')\n",
    "print(f'小明總共存了{num}個月, 已經存了{deposit}元')"
   ]
  },
  {
   "cell_type": "code",
   "execution_count": 12,
   "metadata": {},
   "outputs": [
    {
     "name": "stdout",
     "output_type": "stream",
     "text": [
      "7的平方是49\n",
      "輸入錯誤\n",
      "輸入錯誤\n",
      "9的平方是81\n",
      "應用程式結束\n"
     ]
    }
   ],
   "source": [
    "# 請輸入整數，輸入[q]離開:\n",
    "# 顯示:\n",
    "# 奇數輸出平方\n",
    "# 偶數不做任何動作\n",
    "# 'q'要離開\n",
    "\n",
    "while True:\n",
    "    value = input('請輸入整數, 輸入[q]離開: ')\n",
    "    if value == 'q':\n",
    "        break\n",
    "    try:\n",
    "        valueInt = int(value)\n",
    "    except:\n",
    "        print('輸入錯誤')\n",
    "        continue\n",
    "        \n",
    "    if valueInt % 2 == 1:\n",
    "        print(f'{valueInt}的平方是{valueInt ** 2}')\n",
    "    else:\n",
    "        print('不做事')\n",
    "\n",
    "print('應用程式結束')"
   ]
  }
 ],
 "metadata": {
  "kernelspec": {
   "display_name": "Python 3",
   "language": "python",
   "name": "python3"
  },
  "language_info": {
   "codemirror_mode": {
    "name": "ipython",
    "version": 3
   },
   "file_extension": ".py",
   "mimetype": "text/x-python",
   "name": "python",
   "nbconvert_exporter": "python",
   "pygments_lexer": "ipython3",
   "version": "3.12.3"
  }
 },
 "nbformat": 4,
 "nbformat_minor": 2
}
