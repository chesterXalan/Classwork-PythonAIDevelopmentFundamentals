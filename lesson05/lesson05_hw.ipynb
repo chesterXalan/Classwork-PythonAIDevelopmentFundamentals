{
 "cells": [
  {
   "cell_type": "markdown",
   "metadata": {},
   "source": [
    "### 計算BMI，檢查輸入格式是否有錯誤\n",
    "\n",
    "### 計算公式:\n",
    "- BMI = 體重(kg) / 身高^2(m^2)\n",
    "\n",
    "### 輸入:\n",
    "- 請輸入姓名: xxx\n",
    "- 請輸入身高(cm):\n",
    "- 請輸入體重(kg):\n",
    "\n",
    "### 輸出:\n",
    "- xxx，您的BMI: 25.52\n",
    "\n",
    "### 錯誤:\n",
    "- 格式錯誤: xxxx"
   ]
  },
  {
   "cell_type": "code",
   "execution_count": 14,
   "metadata": {},
   "outputs": [
    {
     "name": "stdout",
     "output_type": "stream",
     "text": [
      "徐茂桓, 您的BMI: 22.6\n"
     ]
    }
   ],
   "source": [
    "try:\n",
    "    name = input('請輸入姓名:')\n",
    "    height = float(input('請輸入身高(cm):'))\n",
    "    weight = float(input('請輸入體重(kg):'))\n",
    "    \n",
    "    bmi = weight / ((height / 100) ** 2)\n",
    "    print(f'{name}, 您的BMI: {round(bmi, ndigits=2)}')\n",
    "\n",
    "except Exception as e:\n",
    "    print(f'格式錯誤: {e}')"
   ]
  },
  {
   "cell_type": "code",
   "execution_count": 15,
   "metadata": {},
   "outputs": [
    {
     "name": "stdout",
     "output_type": "stream",
     "text": [
      "格式錯誤: could not convert string to float: '6a22'\n"
     ]
    }
   ],
   "source": [
    "try:\n",
    "    name = input('請輸入姓名:')\n",
    "    height = float(input('請輸入身高(cm):'))\n",
    "    weight = float(input('請輸入體重(kg):'))\n",
    "    \n",
    "    bmi = weight / ((height / 100) ** 2)\n",
    "    print(f'{name}, 您的BMI: {round(bmi, ndigits=2)}')\n",
    "\n",
    "except Exception as e:\n",
    "    print(f'格式錯誤: {e}')"
   ]
  }
 ],
 "metadata": {
  "kernelspec": {
   "display_name": "Python 3",
   "language": "python",
   "name": "python3"
  },
  "language_info": {
   "codemirror_mode": {
    "name": "ipython",
    "version": 3
   },
   "file_extension": ".py",
   "mimetype": "text/x-python",
   "name": "python",
   "nbconvert_exporter": "python",
   "pygments_lexer": "ipython3",
   "version": "3.12.3"
  }
 },
 "nbformat": 4,
 "nbformat_minor": 2
}
