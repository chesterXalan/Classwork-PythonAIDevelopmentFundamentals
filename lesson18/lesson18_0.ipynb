{
 "cells": [
  {
   "cell_type": "code",
   "execution_count": 2,
   "metadata": {},
   "outputs": [],
   "source": [
    "import pandas as pd\n",
    "\n",
    "df = pd.read_csv('world.csv')\n",
    "df1 = df.reindex(columns=['洲名', '國家', '日期', '總確診數', '新增確診數'])"
   ]
  },
  {
   "cell_type": "code",
   "execution_count": 3,
   "metadata": {},
   "outputs": [],
   "source": [
    "tw_jp_df = df1.query('國家 in [\"台灣\", \"日本\"]')\n",
    "tw_jp_202101_df = tw_jp_df.query('\"2021-01-01\" <= 日期 <= \"2021-01-31\"')"
   ]
  },
  {
   "cell_type": "code",
   "execution_count": 4,
   "metadata": {},
   "outputs": [],
   "source": [
    "tw_jp_202101_df.to_csv('tw_jp_202101.csv', index=False)\n",
    "tw_jp_202101_df.to_excel('tw_jp_202101.xlsx', index=False, sheet_name='2021-01')\n",
    "tw_jp_202101_df.to_json('tw_jp_202101.json', index=False, orient='table', force_ascii=False)"
   ]
  }
 ],
 "metadata": {
  "kernelspec": {
   "display_name": "_default",
   "language": "python",
   "name": "python3"
  },
  "language_info": {
   "codemirror_mode": {
    "name": "ipython",
    "version": 3
   },
   "file_extension": ".py",
   "mimetype": "text/x-python",
   "name": "python",
   "nbconvert_exporter": "python",
   "pygments_lexer": "ipython3",
   "version": "3.12.3"
  }
 },
 "nbformat": 4,
 "nbformat_minor": 2
}
