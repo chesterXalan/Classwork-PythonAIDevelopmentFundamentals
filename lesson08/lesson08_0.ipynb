{
 "cells": [
  {
   "cell_type": "code",
   "execution_count": 1,
   "metadata": {},
   "outputs": [
    {
     "name": "stdout",
     "output_type": "stream",
     "text": [
      "請輸入整數，求所有因數: 50\n",
      "50的因數是:\n",
      "1 2 5 10 25 50 "
     ]
    }
   ],
   "source": [
    "import pyinputplus as pyip\n",
    "\n",
    "value = pyip.inputInt('請輸入整數，求所有因數: ', min=1); print(value)\n",
    "print(f'{value}的因數是:')\n",
    "\n",
    "for i in range(1, value + 1):\n",
    "    if value % i == 0:\n",
    "        print(i, end=' ')"
   ]
  },
  {
   "cell_type": "code",
   "execution_count": 9,
   "metadata": {},
   "outputs": [
    {
     "name": "stdout",
     "output_type": "stream",
     "text": [
      "============猜數字遊戲=============\n",
      "\n",
      "猜數字的範圍1~100: 50\n",
      "再小一點\n",
      "您已經猜了1次\n",
      "\n",
      "猜數字的範圍51~100: Blank values are not allowed.\n",
      "猜數字的範圍51~100: 70\n",
      "再小一點\n",
      "您已經猜了2次\n",
      "\n",
      "猜數字的範圍71~100: 80\n",
      "再小一點\n",
      "您已經猜了3次\n",
      "\n",
      "猜數字的範圍81~100: 90\n",
      "再小一點\n",
      "您已經猜了4次\n",
      "\n",
      "猜數字的範圍81~89: 85\n",
      "再小一點\n",
      "您已經猜了5次\n",
      "\n",
      "猜數字的範圍86~89: Blank values are not allowed.\n",
      "猜數字的範圍86~89: 87\n",
      "賓果! 猜對了, 答案是: 87\n",
      "您總共猜了6次\n",
      "遊戲結束\n"
     ]
    }
   ],
   "source": [
    "import random\n",
    "import pyinputplus as pyip\n",
    "\n",
    "min = 1\n",
    "max = 100\n",
    "count = 0\n",
    "target = random.randint(min, max)\n",
    "\n",
    "print(f'{\"猜數字遊戲\":=^30}\\n')\n",
    "\n",
    "while True:\n",
    "    keyin = pyip.inputInt(f'猜數字的範圍{min}~{max}: '); print(keyin)\n",
    "    count += 1\n",
    "\n",
    "    if keyin == target:\n",
    "        print(f'賓果! 猜對了, 答案是: {target}')\n",
    "        print(f'您總共猜了{count}次')\n",
    "        break\n",
    "    elif keyin > target:\n",
    "        print('再小一點')\n",
    "        max = keyin - 1\n",
    "    elif keyin < target:\n",
    "        print('再小一點')\n",
    "        min = keyin + 1\n",
    "    print(f'您已經猜了{count}次\\n')\n",
    "\n",
    "print('遊戲結束')"
   ]
  }
 ],
 "metadata": {
  "kernelspec": {
   "display_name": "Python 3",
   "language": "python",
   "name": "python3"
  },
  "language_info": {
   "codemirror_mode": {
    "name": "ipython",
    "version": 3
   },
   "file_extension": ".py",
   "mimetype": "text/x-python",
   "name": "python",
   "nbconvert_exporter": "python",
   "pygments_lexer": "ipython3",
   "version": "3.12.3"
  }
 },
 "nbformat": 4,
 "nbformat_minor": 2
}
