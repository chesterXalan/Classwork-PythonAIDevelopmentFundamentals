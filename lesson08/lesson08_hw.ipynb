{
 "cells": [
  {
   "cell_type": "markdown",
   "metadata": {},
   "source": [
    "### 計算BMI\n",
    "\n",
    "### 計算公式:\n",
    "- BMI = 體重(kg) / 身高^2(m^2)\n",
    "\n",
    "### 請使用自訂的function\n",
    "- 建立BMI的function，會傳出BMI\n",
    "- 建立get_status，會傳出字串\n",
    "- 可以使用pypi\n",
    "\n",
    "### 輸入:\n",
    "- 請輸入姓名: xxx\n",
    "- 請輸入身高(cm):\n",
    "- 請輸入體重(kg):\n",
    "\n",
    "### 輸出:\n",
    "- xxx，您的BMI: 25.52\n",
    "- xxx，您的體重: xxx\n",
    "\n",
    "### 錯誤:\n",
    "- 格式錯誤: xxxx"
   ]
  },
  {
   "cell_type": "code",
   "execution_count": 1,
   "metadata": {},
   "outputs": [],
   "source": [
    "import pyinputplus as pyip\n",
    "\n",
    "def calc_bmi(height: float, weight: float) -> float:\n",
    "    return weight / (height / 100) ** 2\n",
    "\n",
    "def get_status(bmi: float) -> str:\n",
    "    if bmi < 18.5:\n",
    "        result = '過輕'\n",
    "    elif bmi < 24:\n",
    "        result = '正常'\n",
    "    elif bmi < 27:\n",
    "        result = '過重'\n",
    "    elif bmi < 30:\n",
    "        result = '輕度肥胖'\n",
    "    elif bmi < 35:\n",
    "        result = '中度肥胖'\n",
    "    else:\n",
    "        result = '重度肥胖'\n",
    "    return result"
   ]
  },
  {
   "cell_type": "code",
   "execution_count": 3,
   "metadata": {},
   "outputs": [
    {
     "name": "stdout",
     "output_type": "stream",
     "text": [
      "請輸入身高(120~230)(cm): 150.0\n",
      "請輸入體重(40~170)(kg): 70.0\n",
      "\n",
      "Alan, 您的BMI: 31.11\n",
      "您的體重: 中度肥胖\n"
     ]
    }
   ],
   "source": [
    "name = input('請輸入姓名: ')\n",
    "height = pyip.inputFloat('請輸入身高(120~230)(cm): ', min=120, max=230); print(height)\n",
    "weight = pyip.inputFloat('請輸入體重(40~170)(kg): ', min=40, max=170); print(weight)\n",
    "\n",
    "bmi = calc_bmi(height, weight)\n",
    "status = get_status(bmi)\n",
    "\n",
    "print(f'\\n{name}, 您的BMI: {bmi:.2f}')\n",
    "print(f'您的體重: {status}')"
   ]
  }
 ],
 "metadata": {
  "kernelspec": {
   "display_name": "Python 3",
   "language": "python",
   "name": "python3"
  },
  "language_info": {
   "codemirror_mode": {
    "name": "ipython",
    "version": 3
   },
   "file_extension": ".py",
   "mimetype": "text/x-python",
   "name": "python",
   "nbconvert_exporter": "python",
   "pygments_lexer": "ipython3",
   "version": "3.12.3"
  }
 },
 "nbformat": 4,
 "nbformat_minor": 2
}
