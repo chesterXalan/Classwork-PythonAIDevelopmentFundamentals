{
 "cells": [
  {
   "cell_type": "markdown",
   "metadata": {},
   "source": [
    "### 操作方式跟dataclass一樣"
   ]
  },
  {
   "cell_type": "code",
   "execution_count": 6,
   "metadata": {},
   "outputs": [
    {
     "name": "stdout",
     "output_type": "stream",
     "text": [
      "Alan\n",
      "Chester\n",
      "24\n",
      "first_name='Alan' last_name='Chester' age=24\n"
     ]
    }
   ],
   "source": [
    "from pydantic import BaseModel\n",
    "\n",
    "class Person(BaseModel):\n",
    "    # field一定要有type hint\n",
    "    first_name: str\n",
    "    last_name: str\n",
    "    age: int\n",
    "\n",
    "p = Person(first_name='Alan', last_name='Chester', age=24)\n",
    "print(p.first_name)\n",
    "print(p.last_name)\n",
    "print(p.age)\n",
    "print(p)"
   ]
  },
  {
   "cell_type": "markdown",
   "metadata": {},
   "source": [
    "### dataclass做不到的\n",
    "- 驗證資料"
   ]
  },
  {
   "cell_type": "code",
   "execution_count": 8,
   "metadata": {},
   "outputs": [
    {
     "name": "stdout",
     "output_type": "stream",
     "text": [
      "first_name='Alan' last_name='Chester' age=24\n"
     ]
    }
   ],
   "source": [
    "p1 = Person(first_name='Alan', last_name='Chester', age='24') # 自動轉換型別\n",
    "print(p1)"
   ]
  },
  {
   "cell_type": "code",
   "execution_count": 10,
   "metadata": {},
   "outputs": [
    {
     "name": "stdout",
     "output_type": "stream",
     "text": [
      "1 validation error for Person\n",
      "age\n",
      "  Input should be a valid integer, unable to parse string as an integer [type=int_parsing, input_value='abc', input_type=str]\n",
      "    For further information visit https://errors.pydantic.dev/2.7/v/int_parsing\n"
     ]
    }
   ],
   "source": [
    "try:\n",
    "    p2 = Person(first_name='Alan', last_name='Chester', age='abc') # 自動轉換型別\n",
    "except Exception as error:\n",
    "    print(error)"
   ]
  },
  {
   "cell_type": "markdown",
   "metadata": {},
   "source": [
    "### 可以將純文字轉成pydantic實體\n",
    "- model_validate_json()"
   ]
  },
  {
   "cell_type": "code",
   "execution_count": 12,
   "metadata": {},
   "outputs": [
    {
     "name": "stdout",
     "output_type": "stream",
     "text": [
      "first_name='Alan' last_name='Chester' age=24\n"
     ]
    }
   ],
   "source": [
    "data_json = '''\n",
    "{\n",
    "    \"first_name\": \"Alan\",\n",
    "    \"last_name\": \"Chester\",\n",
    "    \"age\": 24\n",
    "}\n",
    "'''\n",
    "p3 = Person.model_validate_json(data_json)\n",
    "print(p3)"
   ]
  },
  {
   "cell_type": "markdown",
   "metadata": {},
   "source": [
    "### 可以選擇需要的欄位"
   ]
  },
  {
   "cell_type": "code",
   "execution_count": 14,
   "metadata": {},
   "outputs": [
    {
     "name": "stdout",
     "output_type": "stream",
     "text": [
      "first_name='Alan' last_name='Chester' age=24\n"
     ]
    }
   ],
   "source": [
    "data_json = '''\n",
    "{\n",
    "    \"first_name\": \"Alan\",\n",
    "    \"last_name\": \"Chester\",\n",
    "    \"age\": 24,\n",
    "    \"height\": 170\n",
    "}\n",
    "'''\n",
    "p4 = Person.model_validate_json(data_json)\n",
    "print(p4)"
   ]
  },
  {
   "cell_type": "markdown",
   "metadata": {},
   "source": [
    "### 可以設定取得的資料，如果沒有這個欄位，設定欄位預設值"
   ]
  },
  {
   "cell_type": "code",
   "execution_count": 15,
   "metadata": {},
   "outputs": [
    {
     "name": "stdout",
     "output_type": "stream",
     "text": [
      "first_name='Alan' last_name='Chester' age=0\n"
     ]
    }
   ],
   "source": [
    "class Person(BaseModel):\n",
    "    # field一定要有type hint\n",
    "    first_name: str # 一定要有資料\n",
    "    last_name: str # 一定要有資料\n",
    "    age: int = 0 # 有預設的值\n",
    "\n",
    "data_json = '''\n",
    "{\n",
    "    \"first_name\": \"Alan\",\n",
    "    \"last_name\": \"Chester\"\n",
    "}\n",
    "'''\n",
    "p4 = Person.model_validate_json(data_json)\n",
    "print(p4)"
   ]
  },
  {
   "cell_type": "code",
   "execution_count": 16,
   "metadata": {},
   "outputs": [
    {
     "name": "stdout",
     "output_type": "stream",
     "text": [
      "first_name='Alan' last_name='Chester' age=0 lucky_numbers=[]\n"
     ]
    }
   ],
   "source": [
    "class Person(BaseModel):\n",
    "    # field一定要有type hint\n",
    "    first_name: str # 一定要有資料\n",
    "    last_name: str # 一定要有資料\n",
    "    age: int = 0 # 有預設的值\n",
    "    lucky_numbers: list[int] = []\n",
    "\n",
    "data_json = '''\n",
    "{\n",
    "    \"first_name\": \"Alan\",\n",
    "    \"last_name\": \"Chester\"\n",
    "}\n",
    "'''\n",
    "p4 = Person.model_validate_json(data_json)\n",
    "print(p4)"
   ]
  },
  {
   "cell_type": "code",
   "execution_count": 17,
   "metadata": {},
   "outputs": [
    {
     "name": "stdout",
     "output_type": "stream",
     "text": [
      "first_name='Alan' last_name='Chester' age=0 lucky_numbers=[1, 2, 3, 4, 5]\n"
     ]
    }
   ],
   "source": [
    "class Person(BaseModel):\n",
    "    # field一定要有type hint\n",
    "    first_name: str # 一定要有資料\n",
    "    last_name: str # 一定要有資料\n",
    "    age: int = 0 # 有預設的值\n",
    "    lucky_numbers: list[int] = []\n",
    "\n",
    "data_json = '''\n",
    "{\n",
    "    \"first_name\": \"Alan\",\n",
    "    \"last_name\": \"Chester\",\n",
    "    \"lucky_numbers\": [1, 2, 3, 4, 5]\n",
    "}\n",
    "'''\n",
    "p4 = Person.model_validate_json(data_json)\n",
    "print(p4)"
   ]
  },
  {
   "cell_type": "code",
   "execution_count": 19,
   "metadata": {},
   "outputs": [
    {
     "name": "stdout",
     "output_type": "stream",
     "text": [
      "id_=100 first_name='Alan' last_name='Chester' age=24\n"
     ]
    }
   ],
   "source": [
    "data_json = '''\n",
    "{\n",
    "    \"id\": 100,\n",
    "    \"First Name\": \"Alan\",\n",
    "    \"LASTNAME\": \"Chester\",\n",
    "    \"age in years\": 24\n",
    "}\n",
    "'''\n",
    "\n",
    "from pydantic import BaseModel, Field\n",
    "\n",
    "class Person(BaseModel):\n",
    "    id_: int = Field(alias='id')\n",
    "    first_name: str = Field(alias='First Name')\n",
    "    last_name: str = Field(alias='LASTNAME')\n",
    "    age: int = Field(alias='age in years', default=0)\n",
    "\n",
    "p1 = Person.model_validate_json(data_json)\n",
    "print(p1)"
   ]
  },
  {
   "cell_type": "markdown",
   "metadata": {},
   "source": [
    "### 巢狀的Model"
   ]
  },
  {
   "cell_type": "code",
   "execution_count": 23,
   "metadata": {},
   "outputs": [
    {
     "name": "stdout",
     "output_type": "stream",
     "text": [
      "Lunar Colony\n",
      "Central City\n"
     ]
    }
   ],
   "source": [
    "data: str = '''\n",
    "{\n",
    "    \"firstName\": \"Arthur\",\n",
    "    \"lastName\": \"Clarke\",\n",
    "    \"born\": {\n",
    "        \"place\": {\n",
    "            \"country\": \"Lunar Colony\",\n",
    "            \"city\": \"Central City\"            \n",
    "        },\n",
    "        \"date\": \"2001-01-01\"\n",
    "    }\n",
    "}\n",
    "'''\n",
    "\n",
    "from pydantic import BaseModel, Field\n",
    "\n",
    "class Place(BaseModel):\n",
    "    country: str\n",
    "    city: str\n",
    "\n",
    "class Born(BaseModel):\n",
    "    place: Place\n",
    "    date: str\n",
    "\n",
    "class Person(BaseModel):\n",
    "    first_name: str = Field(alias='firstName')\n",
    "    last_name: str = Field(alias='lastName')\n",
    "    born: Born\n",
    "\n",
    "p1 = Person.model_validate_json(data)\n",
    "print(p1.born.place.country)\n",
    "print(p1.born.place.city)"
   ]
  }
 ],
 "metadata": {
  "kernelspec": {
   "display_name": "Python 3",
   "language": "python",
   "name": "python3"
  },
  "language_info": {
   "codemirror_mode": {
    "name": "ipython",
    "version": 3
   },
   "file_extension": ".py",
   "mimetype": "text/x-python",
   "name": "python",
   "nbconvert_exporter": "python",
   "pygments_lexer": "ipython3",
   "version": "3.12.3"
  }
 },
 "nbformat": 4,
 "nbformat_minor": 2
}
