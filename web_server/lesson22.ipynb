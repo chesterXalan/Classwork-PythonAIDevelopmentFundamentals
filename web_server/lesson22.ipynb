{
 "cells": [
  {
   "cell_type": "code",
   "execution_count": 3,
   "metadata": {},
   "outputs": [
    {
     "data": {
      "text/plain": [
       "True"
      ]
     },
     "execution_count": 3,
     "metadata": {},
     "output_type": "execute_result"
    }
   ],
   "source": [
    "import google.generativeai as genai\n",
    "import os\n",
    "from dotenv import load_dotenv\n",
    "load_dotenv()\n"
   ]
  },
  {
   "cell_type": "code",
   "execution_count": 6,
   "metadata": {},
   "outputs": [
    {
     "name": "stdout",
     "output_type": "stream",
     "text": [
      "**學習演算法的步驟：**\n",
      "\n",
      "**1. 基礎資料結構和演算法 (DSA)**\n",
      "\n",
      "* 了解基本資料結構，例如陣列、連結串列和樹狀結構。\n",
      "* 學習基本的演算法，例如搜尋和排序。\n",
      "* 熟悉演算法複雜度，包括時間和空間複雜度。\n",
      "\n",
      "**2. 資料結構與演算法課程**\n",
      "\n",
      "* 報名線上或實體課程。\n",
      "* Coursera、edX 和 Udemy 等平台提供許多優秀的課程。\n",
      "* 大學通常提供 DSA 課程或學位課程。\n",
      "\n",
      "**3. 自學教材和線上資源**\n",
      "\n",
      "* 閱讀課本，例如《演算法導論》或《演算法設計手冊》。\n",
      "* 使用線上互動平台，例如 LeetCode 和 HackerRank，練習解決問題。\n",
      "* 觀看 YouTube 影片和教程，以補充你的理解。\n",
      "\n",
      "**4. 實際練習和專案**\n",
      "\n",
      "* 解決 DSA 習題和問題。\n",
      "* 建立演算法專案，例如自動化任務或分析資料。\n",
      "* 參加編程競賽，例如 Google Code Jam 或 ACM-ICPC。\n",
      "\n",
      "**5. 專業進階**\n",
      "\n",
      "* 學習更複雜的演算法，例如圖形演算法、動態規劃和機器學習演算法。\n",
      "* 了解演算法設計模式。\n",
      "* 參與研究和開發工作。\n",
      "\n",
      "**建議的資源：**\n",
      "\n",
      "* **線上課程：** Coursera 的演算法專項課程、edX 的資料結構和演算法\n",
      "* **教材：** 《演算法導論》、《演算法設計手冊》\n",
      "* **線上平台：** LeetCode、HackerRank\n",
      "* **YouTube 頻道：** Khan Academy、MIT OpenCourseWare\n",
      "\n",
      "**演算法學習技巧：**\n",
      "\n",
      "* **實踐：** 定期練習解決演算法問題。\n",
      "* **理解：** 不要只記憶演算法，而是要理解它們是如何工作的。\n",
      "* **分析：** 學習分析演算法的複雜度和效能。\n",
      "* **耐心：** 學習演算法需要時間和耐心。\n",
      "* **尋求幫助：** 遇到困難時不要害怕尋求幫助。\n"
     ]
    }
   ],
   "source": [
    "genai.configure(api_key=os.environ['Gemini_API_KEY'])\n",
    "model = genai.GenerativeModel('gemini-pro')\n",
    "response = model.generate_content('我想要學習演算法')\n",
    "print(response.text)"
   ]
  }
 ],
 "metadata": {
  "kernelspec": {
   "display_name": "_default",
   "language": "python",
   "name": "python3"
  },
  "language_info": {
   "codemirror_mode": {
    "name": "ipython",
    "version": 3
   },
   "file_extension": ".py",
   "mimetype": "text/x-python",
   "name": "python",
   "nbconvert_exporter": "python",
   "pygments_lexer": "ipython3",
   "version": "3.12.4"
  }
 },
 "nbformat": 4,
 "nbformat_minor": 2
}
