{
 "cells": [
  {
   "cell_type": "code",
   "execution_count": 11,
   "metadata": {},
   "outputs": [
    {
     "name": "stdout",
     "output_type": "stream",
     "text": [
      "計算圓面積\n",
      "圓半徑:10.0, 圓面積:314.15927\n",
      "圓半徑:10.0, 圓面積:314.1592653589793\n",
      "圓半徑:10.00000, 圓面積:314.16\n"
     ]
    }
   ],
   "source": [
    "# 計算圓面積\n",
    "import math\n",
    "print('計算圓面積')\n",
    "radius:float = float(input('請輸入半徑:'))\n",
    "area:float = math.pi * radius ** 2\n",
    "print(f'圓半徑:{radius}, 圓面積:{math.pi * radius ** 2:.5f}')\n",
    "print(f'圓半徑:{radius}, 圓面積:{area}')\n",
    "print(f'圓半徑:{radius:.5f}, 圓面積:{area:.2f}')"
   ]
  }
 ],
 "metadata": {
  "kernelspec": {
   "display_name": "Python 3",
   "language": "python",
   "name": "python3"
  },
  "language_info": {
   "codemirror_mode": {
    "name": "ipython",
    "version": 3
   },
   "file_extension": ".py",
   "mimetype": "text/x-python",
   "name": "python",
   "nbconvert_exporter": "python",
   "pygments_lexer": "ipython3",
   "version": "3.10.14"
  }
 },
 "nbformat": 4,
 "nbformat_minor": 2
}
