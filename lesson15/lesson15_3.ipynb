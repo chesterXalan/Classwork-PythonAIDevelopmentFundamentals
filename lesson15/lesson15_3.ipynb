{
 "cells": [
  {
   "cell_type": "code",
   "execution_count": 3,
   "metadata": {},
   "outputs": [
    {
     "name": "stdout",
     "output_type": "stream",
     "text": [
      "144\n",
      "==========\n",
      "170\n",
      "==========\n",
      "164\n",
      "==========\n",
      "167\n",
      "==========\n",
      "177\n",
      "==========\n"
     ]
    }
   ],
   "source": [
    "student1 = [69, 78, 72, 91, 85]\n",
    "student2 = [75, 92, 92, 76, 92]\n",
    "\n",
    "for i in range(len(student1)):\n",
    "    scores = student1[i] + student2[i]\n",
    "    print(scores)\n",
    "    print('==========')"
   ]
  },
  {
   "cell_type": "code",
   "execution_count": 4,
   "metadata": {},
   "outputs": [
    {
     "data": {
      "text/plain": [
       "[69, 78, 72, 91, 85, 75, 92, 92, 76, 92]"
      ]
     },
     "execution_count": 4,
     "metadata": {},
     "output_type": "execute_result"
    }
   ],
   "source": [
    "student1 + student2"
   ]
  },
  {
   "cell_type": "code",
   "execution_count": 2,
   "metadata": {},
   "outputs": [
    {
     "name": "stdout",
     "output_type": "stream",
     "text": [
      "144\n",
      "=======\n",
      "170\n",
      "=======\n",
      "164\n",
      "=======\n",
      "167\n",
      "=======\n",
      "177\n",
      "=======\n"
     ]
    }
   ],
   "source": [
    "import numpy as np\n",
    "from numpy import ndarray\n",
    "\n",
    "student1: ndarray = np.array([69, 78, 72, 91, 85])\n",
    "student2: ndarray = np.array([75, 92, 92, 76, 92])\n",
    "\n",
    "# 可以做陣列運算，不須使用for...in\n",
    "totals: ndarray = student1 + student2\n",
    "for total in totals:\n",
    "    print(total)\n",
    "    print('=======')"
   ]
  },
  {
   "cell_type": "code",
   "execution_count": 3,
   "metadata": {},
   "outputs": [
    {
     "name": "stdout",
     "output_type": "stream",
     "text": [
      "[[1 2 3]\n",
      " [4 5 6]]\n",
      "2\n",
      "(2, 3)\n",
      "6\n",
      "int64\n"
     ]
    }
   ],
   "source": [
    "array: ndarray = np.array([[1, 2, 3], [4, 5, 6]])\n",
    "print(array)\n",
    "# property\n",
    "# ndim, shape, size, dtype\n",
    "\n",
    "print(array.ndim)\n",
    "print(array.shape)\n",
    "print(array.size)\n",
    "print(array.dtype)"
   ]
  },
  {
   "cell_type": "code",
   "execution_count": 10,
   "metadata": {},
   "outputs": [
    {
     "data": {
      "text/plain": [
       "array([[ 56,  99,  76,  50,  67],\n",
       "       [ 56,  68,  86,  54,  76],\n",
       "       [ 70,  98,  99,  59,  85],\n",
       "       [ 56,  74,  66,  76,  81],\n",
       "       [ 91,  92,  55,  94,  57],\n",
       "       [ 53,  55,  85,  64,  81],\n",
       "       [ 96,  75,  61,  99,  53],\n",
       "       [ 98,  78,  64,  76,  81],\n",
       "       [ 82,  92,  54,  99,  84],\n",
       "       [ 59,  71,  59,  87,  99],\n",
       "       [ 84,  57,  97,  60,  92],\n",
       "       [ 67,  90,  69,  57,  73],\n",
       "       [ 73,  52,  55,  96,  97],\n",
       "       [ 91,  61,  78,  76,  64],\n",
       "       [ 72,  97,  69,  66,  66],\n",
       "       [ 68,  50,  82,  90,  64],\n",
       "       [ 85,  78,  62,  86,  72],\n",
       "       [ 87,  68,  94,  98,  78],\n",
       "       [ 57,  64, 100,  99,  64],\n",
       "       [ 86,  63, 100,  83,  71],\n",
       "       [ 59,  54,  83,  99,  75],\n",
       "       [ 64,  83,  86,  99,  81],\n",
       "       [ 95,  81,  95,  74,  88],\n",
       "       [ 52,  72,  86,  66,  53],\n",
       "       [ 96,  78,  65,  70,  69],\n",
       "       [ 64,  76,  89,  51,  61],\n",
       "       [ 80,  53,  82,  76,  77],\n",
       "       [ 98,  57,  77,  52,  98],\n",
       "       [ 81,  80,  55,  76,  78],\n",
       "       [ 86,  61,  96,  87,  76],\n",
       "       [ 58,  89,  86,  59,  89],\n",
       "       [ 85,  83,  54,  77,  60],\n",
       "       [ 60,  65,  63,  72,  81],\n",
       "       [ 93,  54,  92,  67,  50],\n",
       "       [ 85,  96,  87,  59,  52],\n",
       "       [ 65,  77,  89,  94,  64],\n",
       "       [ 55,  96,  64,  89,  57],\n",
       "       [ 96,  63,  87,  77,  60],\n",
       "       [ 70,  96,  64,  52,  78],\n",
       "       [ 87,  54,  69,  78,  78],\n",
       "       [ 84,  82,  92,  76,  64],\n",
       "       [ 56,  82,  61,  77,  68],\n",
       "       [ 52,  80,  85,  85,  98],\n",
       "       [ 77,  65,  50,  75,  83],\n",
       "       [ 82,  73,  77,  94,  90],\n",
       "       [ 84,  88,  94,  88,  52],\n",
       "       [ 86,  93,  62, 100,  85],\n",
       "       [ 57,  94,  89,  59,  91],\n",
       "       [ 96,  54,  66,  67,  78],\n",
       "       [ 86,  89,  70,  73,  53]])"
      ]
     },
     "execution_count": 10,
     "metadata": {},
     "output_type": "execute_result"
    }
   ],
   "source": [
    "np.random.randint(50, 101, size=(50, 5))"
   ]
  }
 ],
 "metadata": {
  "kernelspec": {
   "display_name": "base",
   "language": "python",
   "name": "python3"
  },
  "language_info": {
   "codemirror_mode": {
    "name": "ipython",
    "version": 3
   },
   "file_extension": ".py",
   "mimetype": "text/x-python",
   "name": "python",
   "nbconvert_exporter": "python",
   "pygments_lexer": "ipython3",
   "version": "3.12.3"
  }
 },
 "nbformat": 4,
 "nbformat_minor": 2
}
