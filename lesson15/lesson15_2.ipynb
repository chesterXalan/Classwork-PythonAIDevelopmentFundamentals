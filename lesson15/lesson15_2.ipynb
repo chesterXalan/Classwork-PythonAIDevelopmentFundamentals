{
 "cells": [
  {
   "cell_type": "code",
   "execution_count": null,
   "metadata": {},
   "outputs": [],
   "source": [
    "student1 = {'chinese': 78, 'english': 80, 'math': 92, 'history': 75, 'discover': 85}\n",
    "student2 = {'chinese': 92, 'english': 60, 'math': 85, 'history': 62, 'discover': 73}\n",
    "keys = student1.keys()\n",
    "subject: list[str] = list(keys)\n",
    "values1 = student1.values()\n",
    "values2 = list(student2.values())\n",
    "\n",
    "import matplotlib.pyplot as plt\n",
    "\n",
    "figure = plt.figure(figsize=(8, 5), dpi=250, facecolor='#EEA9A9')\n",
    "axes = figure.add_subplot(1, 1, 1)\n",
    "\n",
    "axes.plot(subject, values1, 'bo--', label='student1')\n",
    "axes.plot(subject, values2, 'ro-.', label='student2')\n",
    "axes.grid(axis='y')\n",
    "axes.set_title('student1 vs student2')\n",
    "axes.set_xlabel('subjects')\n",
    "axes.set_ylabel('scores')\n",
    "axes.legend()\n",
    "\n",
    "#print(axes.get_xticks())\n",
    "#print(axes.get_yticks())\n",
    "labels = axes.get_xticklabels()\n",
    "#print(labels)\n",
    "for text in labels:\n",
    "    subject_name = text.get_text()\n",
    "    score1 = student1[subject_name]\n",
    "    x_value = text.get_position()[0]\n",
    "    axes.annotate(str(score1), (x_value, score1+0.5))\n",
    "    score2 = student2[subject_name]\n",
    "    axes.annotate(str(score2), (x_value, score2+0.5))\n",
    "\n",
    "plt.show()"
   ]
  }
 ],
 "metadata": {
  "kernelspec": {
   "display_name": "base",
   "language": "python",
   "name": "python3"
  },
  "language_info": {
   "name": "python",
   "version": "3.12.3"
  }
 },
 "nbformat": 4,
 "nbformat_minor": 2
}
