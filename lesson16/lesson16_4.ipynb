{
 "cells": [
  {
   "cell_type": "code",
   "execution_count": 2,
   "metadata": {},
   "outputs": [
    {
     "name": "stdout",
     "output_type": "stream",
     "text": [
      "下載成功\n"
     ]
    }
   ],
   "source": [
    "import requests\n",
    "from requests import Response\n",
    "aqi_url = 'https://data.moenv.gov.tw/api/v2/aqx_p_488?api_key=e8dd42e6-9b8b-43f8-991e-b3dee723a52d&limit=1000&sort=datacreationdate desc&format=JSON'\n",
    "\n",
    "res: Response = requests.get(aqi_url)\n",
    "if res.status_code == 200:\n",
    "    print('下載成功')\n",
    "else:\n",
    "    print('下載失敗')"
   ]
  },
  {
   "cell_type": "code",
   "execution_count": null,
   "metadata": {},
   "outputs": [],
   "source": [
    "#自訂的欄位驗証\n",
    "from pydantic import BaseModel, Field, field_validator\n",
    "\n",
    "class Site(BaseModel):\n",
    "    site_name: str = Field(alias='sitename')\n",
    "    county: str\n",
    "    aqi: int\n",
    "    status: str\n",
    "    pm25: float = Field(alias='pm2.5')\n",
    "    so2: float\n",
    "    co: float\n",
    "\n",
    "    @field_validator('pm25', 'so2', 'co', mode='before')\n",
    "    @classmethod\n",
    "    def whitespace_to_zero(cls, value: str) -> str:\n",
    "        if value == '':\n",
    "            return '0.0'\n",
    "        else:\n",
    "            return value\n",
    "\n",
    "class AQI(BaseModel):\n",
    "    records: list[Site]\n",
    "\n",
    "data: AQI = AQI.model_validate_json(res.text)\n",
    "for item in data.records:\n",
    "    print(item)"
   ]
  },
  {
   "cell_type": "code",
   "execution_count": null,
   "metadata": {},
   "outputs": [],
   "source": [
    "all_sites: list[dict] = data.model_dump()['records']\n",
    "all_sites # python的資料結構"
   ]
  },
  {
   "cell_type": "code",
   "execution_count": null,
   "metadata": {},
   "outputs": [],
   "source": [
    "import pandas as pd\n",
    "df1 = pd.DataFrame(all_sites)"
   ]
  },
  {
   "cell_type": "code",
   "execution_count": 6,
   "metadata": {},
   "outputs": [
    {
     "data": {
      "text/html": [
       "<div>\n",
       "<style scoped>\n",
       "    .dataframe tbody tr th:only-of-type {\n",
       "        vertical-align: middle;\n",
       "    }\n",
       "\n",
       "    .dataframe tbody tr th {\n",
       "        vertical-align: top;\n",
       "    }\n",
       "\n",
       "    .dataframe thead th {\n",
       "        text-align: right;\n",
       "    }\n",
       "</style>\n",
       "<table border=\"1\" class=\"dataframe\">\n",
       "  <thead>\n",
       "    <tr style=\"text-align: right;\">\n",
       "      <th></th>\n",
       "      <th>site_name</th>\n",
       "      <th>county</th>\n",
       "      <th>aqi</th>\n",
       "      <th>status</th>\n",
       "      <th>pm25</th>\n",
       "      <th>so2</th>\n",
       "      <th>co</th>\n",
       "    </tr>\n",
       "  </thead>\n",
       "  <tbody>\n",
       "    <tr>\n",
       "      <th>956</th>\n",
       "      <td>宜蘭</td>\n",
       "      <td>宜蘭縣</td>\n",
       "      <td>13</td>\n",
       "      <td>良好</td>\n",
       "      <td>4.0</td>\n",
       "      <td>0.4</td>\n",
       "      <td>0.16</td>\n",
       "    </tr>\n",
       "    <tr>\n",
       "      <th>997</th>\n",
       "      <td>竹東</td>\n",
       "      <td>新竹縣</td>\n",
       "      <td>13</td>\n",
       "      <td>良好</td>\n",
       "      <td>2.0</td>\n",
       "      <td>0.0</td>\n",
       "      <td>0.11</td>\n",
       "    </tr>\n",
       "  </tbody>\n",
       "</table>\n",
       "</div>"
      ],
      "text/plain": [
       "    site_name county  aqi status  pm25  so2    co\n",
       "956        宜蘭    宜蘭縣   13     良好   4.0  0.4  0.16\n",
       "997        竹東    新竹縣   13     良好   2.0  0.0  0.11"
      ]
     },
     "execution_count": 6,
     "metadata": {},
     "output_type": "execute_result"
    }
   ],
   "source": [
    "df1[df1['aqi'] <= 13]"
   ]
  }
 ],
 "metadata": {
  "kernelspec": {
   "display_name": "base",
   "language": "python",
   "name": "python3"
  },
  "language_info": {
   "codemirror_mode": {
    "name": "ipython",
    "version": 3
   },
   "file_extension": ".py",
   "mimetype": "text/x-python",
   "name": "python",
   "nbconvert_exporter": "python",
   "pygments_lexer": "ipython3",
   "version": "3.12.3"
  }
 },
 "nbformat": 4,
 "nbformat_minor": 2
}
