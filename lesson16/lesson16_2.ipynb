{
 "cells": [
  {
   "cell_type": "code",
   "execution_count": null,
   "metadata": {},
   "outputs": [],
   "source": [
    "# list comprehension -> 快速建立list\n",
    "[f'{num}號' for num in range(1, 51)]"
   ]
  },
  {
   "cell_type": "code",
   "execution_count": null,
   "metadata": {},
   "outputs": [],
   "source": [
    "import numpy as np\n",
    "import pandas as pd\n",
    "\n",
    "array_2d = np.random.randint(50, 100, size=(50, 5))\n",
    "df1 = pd.DataFrame(array_2d,\n",
    "             columns=['國文', '英文', '數學', '地理', '社會'],\n",
    "             index=[f'{num}號' for num in range(1, 51)])\n",
    "df1"
   ]
  },
  {
   "cell_type": "code",
   "execution_count": null,
   "metadata": {},
   "outputs": [],
   "source": [
    "# 從DataFrame取出ndarray\n",
    "df1.values"
   ]
  },
  {
   "cell_type": "code",
   "execution_count": null,
   "metadata": {},
   "outputs": [],
   "source": [
    "# DataFrame[欄位名稱] subscript\n",
    "df1['國文'], df1['英文']"
   ]
  },
  {
   "cell_type": "code",
   "execution_count": 9,
   "metadata": {},
   "outputs": [
    {
     "name": "stderr",
     "output_type": "stream",
     "text": [
      "C:\\Users\\chesterXalan\\AppData\\Local\\Temp\\ipykernel_21580\\2554846373.py:3: FutureWarning: Series.__getitem__ treating keys as positions is deprecated. In a future version, integer keys will always be treated as labels (consistent with DataFrame behavior). To access a value by position, use `ser.iloc[pos]`\n",
      "  df1['國文'][0]\n"
     ]
    },
    {
     "data": {
      "text/plain": [
       "1號    94\n",
       "2號    79\n",
       "3號    96\n",
       "Name: 國文, dtype: int32"
      ]
     },
     "execution_count": 9,
     "metadata": {},
     "output_type": "execute_result"
    }
   ],
   "source": [
    "# Series的選取，使用subscript\n",
    "# Series[數值的index]\n",
    "df1['國文'][0]\n",
    "# Series[數值的index]\n",
    "df1['國文'][:5]\n",
    "# Series[字串的index]\n",
    "df1['國文']['1號']\n",
    "# Series[[字串, 字串, 字串]]\n",
    "df1['國文'][['1號', '2號', '3號']]"
   ]
  },
  {
   "cell_type": "code",
   "execution_count": null,
   "metadata": {},
   "outputs": [],
   "source": [
    "# DataFrame的subscripts\n",
    "# DataFrame[欄位名稱]\n",
    "df1['國文']"
   ]
  },
  {
   "cell_type": "code",
   "execution_count": null,
   "metadata": {},
   "outputs": [],
   "source": [
    "# DataFrame的subscripts\n",
    "# DataFrame[[欄位名稱, 欄位名稱]]\n",
    "df1[['國文', '英文']]"
   ]
  },
  {
   "cell_type": "code",
   "execution_count": null,
   "metadata": {},
   "outputs": [],
   "source": [
    "# DataFrame的列的選取\n",
    "# loc[字串]\n",
    "# iloc[數值]"
   ]
  },
  {
   "cell_type": "code",
   "execution_count": 11,
   "metadata": {},
   "outputs": [
    {
     "data": {
      "text/plain": [
       "國文    94\n",
       "英文    82\n",
       "數學    80\n",
       "地理    65\n",
       "社會    88\n",
       "Name: 1號, dtype: int32"
      ]
     },
     "execution_count": 11,
     "metadata": {},
     "output_type": "execute_result"
    }
   ],
   "source": [
    "# 選取1號\n",
    "# loc[字串]\n",
    "df1.loc['1號']"
   ]
  },
  {
   "cell_type": "code",
   "execution_count": 12,
   "metadata": {},
   "outputs": [
    {
     "data": {
      "text/html": [
       "<div>\n",
       "<style scoped>\n",
       "    .dataframe tbody tr th:only-of-type {\n",
       "        vertical-align: middle;\n",
       "    }\n",
       "\n",
       "    .dataframe tbody tr th {\n",
       "        vertical-align: top;\n",
       "    }\n",
       "\n",
       "    .dataframe thead th {\n",
       "        text-align: right;\n",
       "    }\n",
       "</style>\n",
       "<table border=\"1\" class=\"dataframe\">\n",
       "  <thead>\n",
       "    <tr style=\"text-align: right;\">\n",
       "      <th></th>\n",
       "      <th>國文</th>\n",
       "      <th>英文</th>\n",
       "      <th>數學</th>\n",
       "      <th>地理</th>\n",
       "      <th>社會</th>\n",
       "    </tr>\n",
       "  </thead>\n",
       "  <tbody>\n",
       "    <tr>\n",
       "      <th>1號</th>\n",
       "      <td>94</td>\n",
       "      <td>82</td>\n",
       "      <td>80</td>\n",
       "      <td>65</td>\n",
       "      <td>88</td>\n",
       "    </tr>\n",
       "    <tr>\n",
       "      <th>2號</th>\n",
       "      <td>79</td>\n",
       "      <td>65</td>\n",
       "      <td>92</td>\n",
       "      <td>71</td>\n",
       "      <td>88</td>\n",
       "    </tr>\n",
       "    <tr>\n",
       "      <th>3號</th>\n",
       "      <td>96</td>\n",
       "      <td>91</td>\n",
       "      <td>97</td>\n",
       "      <td>54</td>\n",
       "      <td>88</td>\n",
       "    </tr>\n",
       "  </tbody>\n",
       "</table>\n",
       "</div>"
      ],
      "text/plain": [
       "    國文  英文  數學  地理  社會\n",
       "1號  94  82  80  65  88\n",
       "2號  79  65  92  71  88\n",
       "3號  96  91  97  54  88"
      ]
     },
     "execution_count": 12,
     "metadata": {},
     "output_type": "execute_result"
    }
   ],
   "source": [
    "# 選取1號, 2號, 3號\n",
    "# loc[[字串, 字串]]\n",
    "df1.loc[['1號', '2號', '3號']]"
   ]
  },
  {
   "cell_type": "code",
   "execution_count": 13,
   "metadata": {},
   "outputs": [
    {
     "data": {
      "text/html": [
       "<div>\n",
       "<style scoped>\n",
       "    .dataframe tbody tr th:only-of-type {\n",
       "        vertical-align: middle;\n",
       "    }\n",
       "\n",
       "    .dataframe tbody tr th {\n",
       "        vertical-align: top;\n",
       "    }\n",
       "\n",
       "    .dataframe thead th {\n",
       "        text-align: right;\n",
       "    }\n",
       "</style>\n",
       "<table border=\"1\" class=\"dataframe\">\n",
       "  <thead>\n",
       "    <tr style=\"text-align: right;\">\n",
       "      <th></th>\n",
       "      <th>國文</th>\n",
       "      <th>英文</th>\n",
       "      <th>數學</th>\n",
       "      <th>地理</th>\n",
       "      <th>社會</th>\n",
       "    </tr>\n",
       "  </thead>\n",
       "  <tbody>\n",
       "    <tr>\n",
       "      <th>1號</th>\n",
       "      <td>94</td>\n",
       "      <td>82</td>\n",
       "      <td>80</td>\n",
       "      <td>65</td>\n",
       "      <td>88</td>\n",
       "    </tr>\n",
       "    <tr>\n",
       "      <th>2號</th>\n",
       "      <td>79</td>\n",
       "      <td>65</td>\n",
       "      <td>92</td>\n",
       "      <td>71</td>\n",
       "      <td>88</td>\n",
       "    </tr>\n",
       "    <tr>\n",
       "      <th>3號</th>\n",
       "      <td>96</td>\n",
       "      <td>91</td>\n",
       "      <td>97</td>\n",
       "      <td>54</td>\n",
       "      <td>88</td>\n",
       "    </tr>\n",
       "    <tr>\n",
       "      <th>4號</th>\n",
       "      <td>92</td>\n",
       "      <td>98</td>\n",
       "      <td>56</td>\n",
       "      <td>55</td>\n",
       "      <td>65</td>\n",
       "    </tr>\n",
       "    <tr>\n",
       "      <th>5號</th>\n",
       "      <td>89</td>\n",
       "      <td>99</td>\n",
       "      <td>58</td>\n",
       "      <td>57</td>\n",
       "      <td>94</td>\n",
       "    </tr>\n",
       "  </tbody>\n",
       "</table>\n",
       "</div>"
      ],
      "text/plain": [
       "    國文  英文  數學  地理  社會\n",
       "1號  94  82  80  65  88\n",
       "2號  79  65  92  71  88\n",
       "3號  96  91  97  54  88\n",
       "4號  92  98  56  55  65\n",
       "5號  89  99  58  57  94"
      ]
     },
     "execution_count": 13,
     "metadata": {},
     "output_type": "execute_result"
    }
   ],
   "source": [
    "# 選取前5位\n",
    "# iloc[index:index]\n",
    "df1.iloc[:5]"
   ]
  },
  {
   "cell_type": "code",
   "execution_count": 14,
   "metadata": {},
   "outputs": [
    {
     "data": {
      "text/html": [
       "<div>\n",
       "<style scoped>\n",
       "    .dataframe tbody tr th:only-of-type {\n",
       "        vertical-align: middle;\n",
       "    }\n",
       "\n",
       "    .dataframe tbody tr th {\n",
       "        vertical-align: top;\n",
       "    }\n",
       "\n",
       "    .dataframe thead th {\n",
       "        text-align: right;\n",
       "    }\n",
       "</style>\n",
       "<table border=\"1\" class=\"dataframe\">\n",
       "  <thead>\n",
       "    <tr style=\"text-align: right;\">\n",
       "      <th></th>\n",
       "      <th>國文</th>\n",
       "      <th>英文</th>\n",
       "      <th>數學</th>\n",
       "      <th>地理</th>\n",
       "      <th>社會</th>\n",
       "    </tr>\n",
       "  </thead>\n",
       "  <tbody>\n",
       "    <tr>\n",
       "      <th>46號</th>\n",
       "      <td>67</td>\n",
       "      <td>90</td>\n",
       "      <td>76</td>\n",
       "      <td>74</td>\n",
       "      <td>76</td>\n",
       "    </tr>\n",
       "    <tr>\n",
       "      <th>47號</th>\n",
       "      <td>89</td>\n",
       "      <td>75</td>\n",
       "      <td>59</td>\n",
       "      <td>57</td>\n",
       "      <td>59</td>\n",
       "    </tr>\n",
       "    <tr>\n",
       "      <th>48號</th>\n",
       "      <td>55</td>\n",
       "      <td>92</td>\n",
       "      <td>58</td>\n",
       "      <td>66</td>\n",
       "      <td>86</td>\n",
       "    </tr>\n",
       "    <tr>\n",
       "      <th>49號</th>\n",
       "      <td>87</td>\n",
       "      <td>96</td>\n",
       "      <td>86</td>\n",
       "      <td>94</td>\n",
       "      <td>97</td>\n",
       "    </tr>\n",
       "    <tr>\n",
       "      <th>50號</th>\n",
       "      <td>54</td>\n",
       "      <td>56</td>\n",
       "      <td>66</td>\n",
       "      <td>78</td>\n",
       "      <td>80</td>\n",
       "    </tr>\n",
       "  </tbody>\n",
       "</table>\n",
       "</div>"
      ],
      "text/plain": [
       "     國文  英文  數學  地理  社會\n",
       "46號  67  90  76  74  76\n",
       "47號  89  75  59  57  59\n",
       "48號  55  92  58  66  86\n",
       "49號  87  96  86  94  97\n",
       "50號  54  56  66  78  80"
      ]
     },
     "execution_count": 14,
     "metadata": {},
     "output_type": "execute_result"
    }
   ],
   "source": [
    "# 選取前5位\n",
    "# iloc[數值索引:數值索引]\n",
    "df1.iloc[-5:]"
   ]
  }
 ],
 "metadata": {
  "kernelspec": {
   "display_name": "base",
   "language": "python",
   "name": "python3"
  },
  "language_info": {
   "codemirror_mode": {
    "name": "ipython",
    "version": 3
   },
   "file_extension": ".py",
   "mimetype": "text/x-python",
   "name": "python",
   "nbconvert_exporter": "python",
   "pygments_lexer": "ipython3",
   "version": "3.12.3"
  }
 },
 "nbformat": 4,
 "nbformat_minor": 2
}
